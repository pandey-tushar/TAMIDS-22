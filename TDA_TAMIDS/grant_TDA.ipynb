{
  "nbformat": 4,
  "nbformat_minor": 0,
  "metadata": {
    "colab": {
      "name": "grant_TDA.ipynb",
      "provenance": [],
      "collapsed_sections": []
    },
    "kernelspec": {
      "name": "python3",
      "display_name": "Python 3"
    },
    "language_info": {
      "name": "python"
    }
  },
  "cells": [
    {
      "cell_type": "code",
      "execution_count": null,
      "metadata": {
        "colab": {
          "base_uri": "https://localhost:8080/"
        },
        "id": "Z0xLmyJqSdjb",
        "outputId": "64c3c50a-fe04-4044-b52c-41e342cd0595"
      },
      "outputs": [
        {
          "output_type": "stream",
          "name": "stderr",
          "text": [
            "/usr/local/lib/python3.7/dist-packages/pandas/core/indexing.py:1732: SettingWithCopyWarning: \n",
            "A value is trying to be set on a copy of a slice from a DataFrame\n",
            "\n",
            "See the caveats in the documentation: https://pandas.pydata.org/pandas-docs/stable/user_guide/indexing.html#returning-a-view-versus-a-copy\n",
            "  self._setitem_single_block(indexer, value, name)\n"
          ]
        },
        {
          "output_type": "stream",
          "name": "stdout",
          "text": [
            "(4925, 11) (4925, 11)\n",
            "(4925, 165)\n",
            "KeplerMapper(verbose=1)\n",
            "..Composing projection pipeline of length 1:\n",
            "\tProjections: TSNE()\n",
            "\tDistance matrices: False\n",
            "\tScalers: None\n",
            "..Projecting on data shaped (4925, 157)\n",
            "\n",
            "..Projecting data using: \n",
            "\tTSNE(verbose=1)\n",
            "\n",
            "[t-SNE] Computing 91 nearest neighbors...\n",
            "[t-SNE] Indexed 4925 samples in 0.001s...\n"
          ]
        },
        {
          "output_type": "stream",
          "name": "stderr",
          "text": [
            "/usr/local/lib/python3.7/dist-packages/sklearn/manifold/_t_sne.py:783: FutureWarning: The default initialization in TSNE will change from 'random' to 'pca' in 1.2.\n",
            "  FutureWarning,\n",
            "/usr/local/lib/python3.7/dist-packages/sklearn/manifold/_t_sne.py:793: FutureWarning: The default learning rate in TSNE will change from 200.0 to 'auto' in 1.2.\n",
            "  FutureWarning,\n"
          ]
        },
        {
          "output_type": "stream",
          "name": "stdout",
          "text": [
            "[t-SNE] Computed neighbors for 4925 samples in 0.692s...\n",
            "[t-SNE] Computed conditional probabilities for sample 1000 / 4925\n",
            "[t-SNE] Computed conditional probabilities for sample 2000 / 4925\n",
            "[t-SNE] Computed conditional probabilities for sample 3000 / 4925\n",
            "[t-SNE] Computed conditional probabilities for sample 4000 / 4925\n",
            "[t-SNE] Computed conditional probabilities for sample 4925 / 4925\n",
            "[t-SNE] Mean sigma: 0.815268\n",
            "[t-SNE] KL divergence after 250 iterations with early exaggeration: 74.202637\n",
            "[t-SNE] KL divergence after 1000 iterations: 1.049654\n",
            "Mapping on data shaped (4925, 2) using lens shaped (4925, 2)\n",
            "\n",
            "Creating 1225 hypercubes.\n",
            "No duplicate nodes found to remove.\n",
            "\n",
            "\n",
            "Created 1498 edges and 607 nodes in 0:00:00.784536.\n"
          ]
        }
      ],
      "source": [
        "import pandas as pd, numpy as np\n",
        "\n",
        "grant_df = pd.read_csv('Grant.csv')\n",
        "grant_df.columns = grant_df.iloc[0]\n",
        "grant_df = grant_df[1:].drop(['Rank','Grant ID', 'Grant Number','Title','Abstract','Funding Amount','Currency',\n",
        "                             'Source Linkout','Dimensions URL','RCDC Categories','HRCS HC Categories',\n",
        "                              'HRCS RAC Categories','ICRP Cancer Types','ICRP CSO Categories','Start Date',\n",
        "                              'End Date','Research Organization - original','Research Organization - standardized',\n",
        "                             'City of Research organization','State of Research organization',\n",
        "                              'Country of Research organization','Researchers',\n",
        "                             'GRID ID','Resulting publications'],axis = 1)\n",
        "\n",
        "grant_df['Funding per year'] = 10**(-5)*grant_df['Funding Amount in USD'].astype('float')/(1+grant_df['End Year'].astype('float') - grant_df['Start Year'].astype('float'))\n",
        "grant_df = grant_df.drop(['Funding Amount in USD'], axis = 1)\n",
        "\n",
        "grant_df = grant_df.dropna(subset = ['Funding per year'])\n",
        "\n",
        "from sklearn.preprocessing import MultiLabelBinarizer\n",
        "mlb = MultiLabelBinarizer()\n",
        "grant_df['FOR (ANZSRC) Categories'] = grant_df['FOR (ANZSRC) Categories'].fillna('')\n",
        "\n",
        "for i in range(grant_df.shape[0]):\n",
        "    grant_df['FOR (ANZSRC) Categories'].iloc[i] = (grant_df['FOR (ANZSRC) Categories'].iloc[i]).replace(\"; \",\";\")\n",
        "\n",
        "tmp_df = grant_df['FOR (ANZSRC) Categories'].apply(lambda x: x.split(\";\"))\n",
        "array_out = mlb.fit_transform(tmp_df)\n",
        "df_out = pd.DataFrame(data=array_out, columns=mlb.classes_, index = grant_df.index)\n",
        "df_out.columns = df_out.columns.str.replace(\"'\",\" \")\n",
        "\n",
        "index_df = grant_df.copy()\n",
        "print(index_df.shape, grant_df.shape)\n",
        "grant_df = pd.concat([grant_df, df_out],axis =1).drop(['FOR (ANZSRC) Categories'],axis =1 )\n",
        "\n",
        "grant_df =  grant_df.drop(['Funder','Units of Assessment'],axis =1)\n",
        "\n",
        "temp_df2 = pd.get_dummies(grant_df[['Funder Group','Funder Country']])\n",
        "grant_df = pd.concat([grant_df, temp_df2],axis =1).set_index(index_df.index)\n",
        "print(grant_df.shape)\n",
        "grant_TDA = grant_df.drop(['Title translated','Abstract translated',\n",
        "                          'Start Year','Funder Group','Funder Country',\n",
        "                          'Sustainable Development Goals'],axis =1)\n",
        "\n",
        "grant_TDA['End Year'] = grant_TDA['End Year'].astype(float)\n",
        "grant_TDA = grant_TDA.drop([''],axis=1)\n",
        "import kmapper as km\n",
        "from sklearn.manifold import TSNE\n",
        "from sklearn.preprocessing import MinMaxScaler\n",
        "\n",
        "mapper = km.KeplerMapper(verbose=1)\n",
        "\n",
        "\n",
        "projected_X = mapper.fit_transform(grant_TDA.drop(['Funding per year'],axis =1).dropna(),\n",
        "                                   projection = TSNE(), scaler = None)\n",
        "from sklearn import cluster\n",
        "\n",
        "graph = mapper.map(projected_X,\n",
        "                   clusterer=cluster.DBSCAN(eps=0.1, min_samples=5, metric = 'cosine'),\n",
        "                   cover=km.Cover(n_cubes=35, perc_overlap=0.3), remove_duplicate_nodes=True)\n",
        "\n"
      ]
    },
    {
      "cell_type": "code",
      "source": [
        "funding_lst =  index_df['FOR (ANZSRC) Categories'].fillna('').apply(lambda x: x.split(\";\")).astype(str) + ', FPY = ' + index_df['Funding per year'].astype(str)              \n",
        "\n",
        "html = mapper.visualize(graph,\n",
        "                        path_html=\"grant_test.html\",\n",
        "                        title=\"Test\",\n",
        "                        X_names =  funding_lst.values,\n",
        "                        color_function_name = ['Funding'],\n",
        "                        include_searchbar = True,\n",
        "                        custom_tooltips =  funding_lst.values)\n",
        "from kmapper import jupyter\n",
        "jupyter.display(\"grant_test.html\")\n",
        "km.draw_matplotlib(graph)\n",
        "import matplotlib.pyplot as plt\n",
        "plt.show()"
      ],
      "metadata": {
        "colab": {
          "base_uri": "https://localhost:8080/",
          "height": 914
        },
        "id": "oj30JWJxS03h",
        "outputId": "b10ddb59-dee1-4681-9100-d6b29ed27359"
      },
      "execution_count": null,
      "outputs": [
        {
          "output_type": "stream",
          "name": "stderr",
          "text": [
            "/usr/local/lib/python3.7/dist-packages/kmapper/kmapper.py:867: UserWarning: `color_function_name` was set -- however, no `color_values` were passed, so default color_values were computed based on row order, and the passed `color_function_name` will be set as their label. This may be unexpected.\n",
            "  \"`color_function_name` was set -- however, no `color_values` were passed, so default color_values were computed based on row order, and the passed `color_function_name` will be set as their label. This may be unexpected.\"\n"
          ]
        },
        {
          "output_type": "stream",
          "name": "stdout",
          "text": [
            "Wrote visualization to: grant_test.html\n"
          ]
        },
        {
          "output_type": "display_data",
          "data": {
            "text/plain": [
              "<IPython.core.display.HTML object>"
            ],
            "text/html": [
              "<style>\n",
              "        .container { width:100% !important; }\n",
              "        .output_scroll {height: 800px !important;}\n",
              "        </style>"
            ]
          },
          "metadata": {}
        },
        {
          "output_type": "display_data",
          "data": {
            "text/plain": [
              "<IPython.core.display.HTML object>"
            ],
            "text/html": [
              "<iframe src=grant_test.html width=100%% height=800 frameBorder=\"0\"></iframe>"
            ]
          },
          "metadata": {}
        },
        {
          "output_type": "stream",
          "name": "stdout",
          "text": [
            "no display found. Using non-interactive Agg backend\n"
          ]
        }
      ]
    },
    {
      "cell_type": "code",
      "source": [
        ""
      ],
      "metadata": {
        "colab": {
          "base_uri": "https://localhost:8080/"
        },
        "id": "fcTGvCDfXeIv",
        "outputId": "c1b7a931-fcd0-4a53-a419-0f014f29af67"
      },
      "execution_count": null,
      "outputs": [
        {
          "output_type": "execute_result",
          "data": {
            "text/plain": [
              "1       ['0102 Applied Mathematics', ' 01 Mathematical...\n",
              "2       ['1117 Public Health and Health Services', ' 1...\n",
              "3       ['0912 Materials Engineering', ' 09 Engineerin...\n",
              "4       ['0602 Ecology', ' 0502 Environmental Science ...\n",
              "5       ['0406 Physical Geography and Environmental Ge...\n",
              "                              ...                        \n",
              "4996                      [''], FPY = 0.10333333333333333\n",
              "4997                       [''], FPY = 0.8750000000000001\n",
              "4998                                   [''], FPY = 0.0775\n",
              "4999                      [''], FPY = 0.12385666666666667\n",
              "5000                     [''], FPY = 0.045000000000000005\n",
              "Length: 4925, dtype: object"
            ]
          },
          "metadata": {},
          "execution_count": 53
        }
      ]
    },
    {
      "cell_type": "code",
      "source": [
        ""
      ],
      "metadata": {
        "id": "FgrNTLuAoB76"
      },
      "execution_count": null,
      "outputs": []
    }
  ]
}