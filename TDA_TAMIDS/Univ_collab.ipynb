{
  "cells": [
    {
      "cell_type": "code",
      "execution_count": null,
      "metadata": {
        "id": "ZxyegHkjnI9T"
      },
      "outputs": [],
      "source": [
        "import pandas as pd, numpy as np\n",
        "dept_df = pd.read_csv('primary_df_2.csv').iloc[:,1:]\n",
        "from sklearn.preprocessing import MultiLabelBinarizer\n",
        "mlb = MultiLabelBinarizer()\n"
      ]
    },
    {
      "cell_type": "code",
      "source": [
        ""
      ],
      "metadata": {
        "id": "GiUX0epzCbQ7"
      },
      "execution_count": null,
      "outputs": []
    },
    {
      "cell_type": "code",
      "execution_count": null,
      "metadata": {
        "id": "JfJJbkp5olkd"
      },
      "outputs": [],
      "source": [
        "dept_df= dept_df.dropna(subset = ['Research Organizations - standardized'])\n",
        "tmp_df = dept_df['Research Organizations - standardized'].astype(str).apply(lambda x: x.split(\";\"))\n",
        "array_out = mlb.fit_transform(tmp_df)\n",
        "df_out = pd.DataFrame(data=array_out, columns=mlb.classes_)\n",
        "df_out.columns = df_out.columns.str.replace(\"'\",\" \")\n"
      ]
    },
    {
      "cell_type": "code",
      "source": [
        "dept_df = dept_df.iloc[:,3:]\n",
        "dept_df = dept_df.drop(['Country of Research organization','Times cited','Title','Title_abs'],axis=1)\n"
      ],
      "metadata": {
        "id": "o4_z12-4DrHB"
      },
      "execution_count": null,
      "outputs": []
    },
    {
      "cell_type": "code",
      "source": [
        ""
      ],
      "metadata": {
        "id": "9s9ra_5fEJ2u"
      },
      "execution_count": null,
      "outputs": []
    },
    {
      "cell_type": "code",
      "source": [
        "dept_df_2 = pd.concat([dept_df, df_out.set_index(dept_df.index)],axis =1).drop(['Research Organizations - standardized'],axis =1 )"
      ],
      "metadata": {
        "id": "Ugh7LRQOCwSH"
      },
      "execution_count": null,
      "outputs": []
    },
    {
      "cell_type": "code",
      "source": [
        "dept_df_2.to_csv('dept_df_2.csv',index_label=False)"
      ],
      "metadata": {
        "id": "hQVOC1tt_uCr"
      },
      "execution_count": null,
      "outputs": []
    },
    {
      "cell_type": "code",
      "source": [
        "dept_df_2 = dept_df_2.fillna(0)\n",
        "a = []\n",
        "col_lst = np.append(a,(dept_df_2.iloc[:,2:].sum(axis=0)>100).values)\n",
        "X = dept_df_2.iloc[:,np.argpartition(col_lst,-16)[-16:]]"
      ],
      "metadata": {
        "id": "sfPJLB5-_wWZ"
      },
      "execution_count": null,
      "outputs": []
    },
    {
      "cell_type": "code",
      "execution_count": null,
      "metadata": {
        "id": "PaXGC2JQq5D9"
      },
      "outputs": [],
      "source": [
        "import pandas as pd, numpy as np\n",
        "dept_df_2 = pd.read_csv('dept_df_2.csv')"
      ]
    },
    {
      "cell_type": "code",
      "source": [
        ""
      ],
      "metadata": {
        "id": "va6hxkVLKUzi"
      },
      "execution_count": null,
      "outputs": []
    },
    {
      "cell_type": "code",
      "source": [
        "\n"
      ],
      "metadata": {
        "id": "jywL4VPA6-Re"
      },
      "execution_count": null,
      "outputs": []
    },
    {
      "cell_type": "code",
      "execution_count": null,
      "metadata": {
        "id": "7if2WNQJqdgL"
      },
      "outputs": [],
      "source": [
        "#dept_df_2 = pd.concat([dept_df['Authors at my Institution'], df_out],axis =1)\n"
      ]
    },
    {
      "cell_type": "code",
      "execution_count": null,
      "metadata": {
        "id": "4-GMUAmXtuad"
      },
      "outputs": [],
      "source": [
        "#dept_df_2.to_csv('dept_df_2.csv')\n",
        "#dept_df_2"
      ]
    },
    {
      "cell_type": "code",
      "source": [
        ""
      ],
      "metadata": {
        "id": "FOt0XZhL8HBb"
      },
      "execution_count": null,
      "outputs": []
    },
    {
      "cell_type": "code",
      "execution_count": null,
      "metadata": {
        "id": "jW0VmCwBqm-m"
      },
      "outputs": [],
      "source": [
        ""
      ]
    },
    {
      "cell_type": "markdown",
      "metadata": {
        "id": "HdNwmASF_YeS"
      },
      "source": [
        ""
      ]
    },
    {
      "cell_type": "code",
      "execution_count": null,
      "metadata": {
        "id": "urqOWbZ559zy"
      },
      "outputs": [],
      "source": [
        ""
      ]
    },
    {
      "cell_type": "code",
      "execution_count": null,
      "metadata": {
        "colab": {
          "base_uri": "https://localhost:8080/"
        },
        "id": "0CjzCUMTB1FK",
        "outputId": "ebd5f1a5-a398-4aac-bb0d-44511d9b9805"
      },
      "outputs": [
        {
          "output_type": "stream",
          "name": "stdout",
          "text": [
            "Collecting kmapper\n",
            "  Downloading kmapper-2.0.1-py3-none-any.whl (125 kB)\n",
            "\u001b[?25l\r\u001b[K     |██▋                             | 10 kB 22.7 MB/s eta 0:00:01\r\u001b[K     |█████▏                          | 20 kB 28.3 MB/s eta 0:00:01\r\u001b[K     |███████▉                        | 30 kB 30.8 MB/s eta 0:00:01\r\u001b[K     |██████████▍                     | 40 kB 20.5 MB/s eta 0:00:01\r\u001b[K     |█████████████                   | 51 kB 7.0 MB/s eta 0:00:01\r\u001b[K     |███████████████▋                | 61 kB 8.0 MB/s eta 0:00:01\r\u001b[K     |██████████████████▏             | 71 kB 9.1 MB/s eta 0:00:01\r\u001b[K     |████████████████████▉           | 81 kB 9.9 MB/s eta 0:00:01\r\u001b[K     |███████████████████████▍        | 92 kB 10.9 MB/s eta 0:00:01\r\u001b[K     |██████████████████████████      | 102 kB 8.8 MB/s eta 0:00:01\r\u001b[K     |████████████████████████████▋   | 112 kB 8.8 MB/s eta 0:00:01\r\u001b[K     |███████████████████████████████▏| 122 kB 8.8 MB/s eta 0:00:01\r\u001b[K     |████████████████████████████████| 125 kB 8.8 MB/s \n",
            "\u001b[?25hRequirement already satisfied: scikit-learn in /usr/local/lib/python3.7/dist-packages (from kmapper) (1.0.2)\n",
            "Requirement already satisfied: numpy in /usr/local/lib/python3.7/dist-packages (from kmapper) (1.21.5)\n",
            "Requirement already satisfied: Jinja2 in /usr/local/lib/python3.7/dist-packages (from kmapper) (2.11.3)\n",
            "Requirement already satisfied: scipy in /usr/local/lib/python3.7/dist-packages (from kmapper) (1.4.1)\n",
            "Requirement already satisfied: MarkupSafe>=0.23 in /usr/local/lib/python3.7/dist-packages (from Jinja2->kmapper) (2.0.1)\n",
            "Requirement already satisfied: joblib>=0.11 in /usr/local/lib/python3.7/dist-packages (from scikit-learn->kmapper) (1.1.0)\n",
            "Requirement already satisfied: threadpoolctl>=2.0.0 in /usr/local/lib/python3.7/dist-packages (from scikit-learn->kmapper) (3.1.0)\n",
            "Installing collected packages: kmapper\n",
            "Successfully installed kmapper-2.0.1\n"
          ]
        }
      ],
      "source": [
        "!pip install kmapper"
      ]
    },
    {
      "cell_type": "code",
      "execution_count": null,
      "metadata": {
        "id": "dQL-MCdhCGBi"
      },
      "outputs": [],
      "source": [
        ""
      ]
    },
    {
      "cell_type": "code",
      "execution_count": null,
      "metadata": {
        "colab": {
          "base_uri": "https://localhost:8080/"
        },
        "id": "Xp9fTUkLtwUy",
        "outputId": "d8a63b1b-8516-4882-8c6c-d34eec9ac5c2"
      },
      "outputs": [
        {
          "output_type": "stream",
          "name": "stdout",
          "text": [
            "KeplerMapper(verbose=1)\n",
            "..Composing projection pipeline of length 1:\n",
            "\tProjections: TSNE()\n",
            "\tDistance matrices: False\n",
            "\tScalers: None\n",
            "..Projecting on data shaped (3046, 16)\n",
            "\n",
            "..Projecting data using: \n",
            "\tTSNE(verbose=1)\n",
            "\n",
            "[t-SNE] Computing 91 nearest neighbors...\n",
            "[t-SNE] Indexed 3046 samples in 0.000s...\n"
          ]
        },
        {
          "output_type": "stream",
          "name": "stderr",
          "text": [
            "/usr/local/lib/python3.7/dist-packages/sklearn/manifold/_t_sne.py:783: FutureWarning: The default initialization in TSNE will change from 'random' to 'pca' in 1.2.\n",
            "  FutureWarning,\n",
            "/usr/local/lib/python3.7/dist-packages/sklearn/manifold/_t_sne.py:793: FutureWarning: The default learning rate in TSNE will change from 200.0 to 'auto' in 1.2.\n",
            "  FutureWarning,\n"
          ]
        },
        {
          "output_type": "stream",
          "name": "stdout",
          "text": [
            "[t-SNE] Computed neighbors for 3046 samples in 0.402s...\n",
            "[t-SNE] Computed conditional probabilities for sample 1000 / 3046\n",
            "[t-SNE] Computed conditional probabilities for sample 2000 / 3046\n",
            "[t-SNE] Computed conditional probabilities for sample 3000 / 3046\n",
            "[t-SNE] Computed conditional probabilities for sample 3046 / 3046\n",
            "[t-SNE] Mean sigma: 0.000000\n",
            "[t-SNE] KL divergence after 250 iterations with early exaggeration: 113.781662\n",
            "[t-SNE] KL divergence after 1000 iterations: 2.551870\n",
            "Mapping on data shaped (3046, 2) using lens shaped (3046, 2)\n",
            "\n",
            "Creating 625 hypercubes.\n",
            "Merged 19 duplicate nodes.\n",
            "\n",
            "Number of nodes before merger: 47; after merger: 28\n",
            "\n",
            "\n",
            "Created 57 edges and 28 nodes in 0:00:00.156012.\n"
          ]
        }
      ],
      "source": [
        "import kmapper as km\n",
        "from sklearn.manifold import TSNE\n",
        "from sklearn.preprocessing import MinMaxScaler\n",
        "\n",
        "mapper = km.KeplerMapper(verbose=1)\n",
        "\n",
        "\n",
        "projected_X = mapper.fit_transform(X,\n",
        "                                   projection = TSNE(), scaler = None)\n",
        "from sklearn import cluster\n",
        "\n"
      ]
    },
    {
      "cell_type": "code",
      "source": [
        "graph = mapper.map(projected_X,\n",
        "                   clusterer=cluster.DBSCAN(eps=0.3, min_samples=5, metric = 'l1'),\n",
        "                   cover=km.Cover(n_cubes=35, perc_overlap=0.6), remove_duplicate_nodes=True)\n"
      ],
      "metadata": {
        "colab": {
          "base_uri": "https://localhost:8080/"
        },
        "id": "xZdVASvIQ3V6",
        "outputId": "58bea4c2-dd51-49d8-8447-b0088b36119e"
      },
      "execution_count": null,
      "outputs": [
        {
          "output_type": "stream",
          "name": "stdout",
          "text": [
            "Mapping on data shaped (3046, 2) using lens shaped (3046, 2)\n",
            "\n",
            "Creating 1225 hypercubes.\n",
            "Merged 46 duplicate nodes.\n",
            "\n",
            "Number of nodes before merger: 100; after merger: 54\n",
            "\n",
            "\n",
            "Created 264 edges and 54 nodes in 0:00:00.451794.\n"
          ]
        }
      ]
    },
    {
      "cell_type": "code",
      "execution_count": null,
      "metadata": {
        "id": "eOuc04hY40UO"
      },
      "outputs": [],
      "source": [
        "dept_df = pd.read_csv('primary_df_2.csv').iloc[:,1:]\n",
        "dept_df['Departments'] = dept_df['Departments'].str[1:-1]\n",
        "\n",
        "for i in range(dept_df.shape[0]):\n",
        "  dept_df['Departments'][i] = dept_df['Departments'][i].replace(\"' \",\"'\").replace(\"'\",\"\")\n",
        "\n"
      ]
    },
    {
      "cell_type": "code",
      "source": [
        "Dept = dept_df.iloc[dept_df_2.index]['Departments'].astype(str).apply(lambda x: x.split(\",\"))\n",
        "Univ = dept_df.iloc[dept_df_2.index]['Research Organizations - standardized'].astype(str).apply(lambda x: x.split(\";\"))\n",
        "html = mapper.visualize(graph,\n",
        "                        path_html=\"Univ_collab.html\",\n",
        "                        title=\"Univ_Collab\",\n",
        "                        X_names = 'Dept- '+ Dept.astype(str) +'Univ' + Univ.astype(str) ,\n",
        "                        color_function_name = ['Departments'],\n",
        "                        include_searchbar = True,\n",
        "                        custom_tooltips = ('Dept- '+ Dept.astype(str) +', Univ- ' + Univ.astype(str)).values )\n",
        "from kmapper import jupyter\n",
        "jupyter.display(\"Univ_collab.html\")\n",
        "km.draw_matplotlib(graph)\n",
        "import matplotlib.pyplot as plt\n",
        "plt.show()"
      ],
      "metadata": {
        "colab": {
          "base_uri": "https://localhost:8080/",
          "height": 914
        },
        "id": "r7wFTi3gT5yT",
        "outputId": "515db763-495c-4d16-bda1-539c69e9773f"
      },
      "execution_count": null,
      "outputs": [
        {
          "output_type": "stream",
          "name": "stderr",
          "text": [
            "/usr/local/lib/python3.7/dist-packages/kmapper/kmapper.py:867: UserWarning: `color_function_name` was set -- however, no `color_values` were passed, so default color_values were computed based on row order, and the passed `color_function_name` will be set as their label. This may be unexpected.\n",
            "  \"`color_function_name` was set -- however, no `color_values` were passed, so default color_values were computed based on row order, and the passed `color_function_name` will be set as their label. This may be unexpected.\"\n"
          ]
        },
        {
          "output_type": "stream",
          "name": "stdout",
          "text": [
            "Wrote visualization to: Univ_collab.html\n"
          ]
        },
        {
          "output_type": "display_data",
          "data": {
            "text/plain": [
              "<IPython.core.display.HTML object>"
            ],
            "text/html": [
              "<style>\n",
              "        .container { width:100% !important; }\n",
              "        .output_scroll {height: 800px !important;}\n",
              "        </style>"
            ]
          },
          "metadata": {}
        },
        {
          "output_type": "display_data",
          "data": {
            "text/plain": [
              "<IPython.core.display.HTML object>"
            ],
            "text/html": [
              "<iframe src=Univ_collab.html width=100%% height=800 frameBorder=\"0\"></iframe>"
            ]
          },
          "metadata": {}
        },
        {
          "output_type": "stream",
          "name": "stdout",
          "text": [
            "no display found. Using non-interactive Agg backend\n"
          ]
        }
      ]
    },
    {
      "cell_type": "code",
      "source": [
        ""
      ],
      "metadata": {
        "id": "pmKefxD4Ryqn"
      },
      "execution_count": null,
      "outputs": []
    },
    {
      "cell_type": "code",
      "source": [
        ""
      ],
      "metadata": {
        "id": "Um4oc0UHUWPM"
      },
      "execution_count": null,
      "outputs": []
    }
  ],
  "metadata": {
    "colab": {
      "name": "Univ_collab.ipynb",
      "provenance": [],
      "collapsed_sections": []
    },
    "kernelspec": {
      "display_name": "Python 3",
      "name": "python3"
    },
    "language_info": {
      "name": "python"
    }
  },
  "nbformat": 4,
  "nbformat_minor": 0
}